{
  "nbformat": 4,
  "nbformat_minor": 0,
  "metadata": {
    "colab": {
      "provenance": [],
      "authorship_tag": "ABX9TyNth9DVxB4VKETLJNu9ljHw",
      "include_colab_link": true
    },
    "kernelspec": {
      "name": "python3",
      "display_name": "Python 3"
    },
    "language_info": {
      "name": "python"
    }
  },
  "cells": [
    {
      "cell_type": "markdown",
      "metadata": {
        "id": "view-in-github",
        "colab_type": "text"
      },
      "source": [
        "<a href=\"https://colab.research.google.com/github/UniVR-DH/DBMS-course/blob/main/notebooks/lecture01.ipynb\" target=\"_parent\"><img src=\"https://colab.research.google.com/assets/colab-badge.svg\" alt=\"Open In Colab\"/></a>"
      ]
    },
    {
      "cell_type": "code",
      "execution_count": 1,
      "metadata": {
        "id": "VOI-ZgbHdkhB"
      },
      "outputs": [],
      "source": [
        "import sqlite3\n",
        "conn = sqlite3.connect(\"lecture01.db\")\n",
        "cursor = conn.cursor()"
      ]
    },
    {
      "cell_type": "code",
      "source": [
        "cursor.execute('''\n",
        "CREATE TABLE book (\n",
        "    book_id INTEGER PRIMARY KEY,\n",
        "    title VARCHAR(255) NOT NULL,\n",
        "    publisher_name VARCHAR(100),\n",
        "    publication_year INTEGER,\n",
        "    language CHAR(2)\n",
        ")\n",
        "''')\n",
        "\n",
        "cursor.execute('''\n",
        "CREATE TABLE author (\n",
        "    author_id INTEGER PRIMARY KEY,\n",
        "    first_name VARCHAR(50) NOT NULL,\n",
        "    last_name VARCHAR(50) NOT NULL,\n",
        "    nationality VARCHAR(50)\n",
        ")\n",
        "''')\n",
        "\n",
        "cursor.execute('''\n",
        "CREATE TABLE book_author (\n",
        "    book_id INTEGER,\n",
        "    author_id INTEGER,\n",
        "    PRIMARY KEY (book_id, author_id),\n",
        "    FOREIGN KEY (book_id) REFERENCES book(book_id),\n",
        "    FOREIGN KEY (author_id) REFERENCES author(author_id)\n",
        ")\n",
        "''')\n",
        "\n",
        "conn.commit()\n",
        "print(\"Ready!\")"
      ],
      "metadata": {
        "colab": {
          "base_uri": "https://localhost:8080/"
        },
        "id": "RRTwDhgtdxo7",
        "outputId": "f7e8d73f-87fc-4a69-e04f-c4df1ac15b44"
      },
      "execution_count": 2,
      "outputs": [
        {
          "output_type": "stream",
          "name": "stdout",
          "text": [
            "Ready!\n"
          ]
        }
      ]
    },
    {
      "cell_type": "code",
      "source": [
        "# Insert books\n",
        "cursor.execute('''\n",
        "INSERT INTO book (book_id, title, publisher_name, publication_year, language)\n",
        "VALUES\n",
        "(1, 'To Kill a Mockingbird', 'HarperCollins', 1960, 'EN'),\n",
        "(2, '1984', 'Penguin Books', 1949, 'EN'),\n",
        "(3, 'One Hundred Years of Solitude', 'Harper & Row', 1967, 'ES'),\n",
        "(4, 'Il Nome della Rosa', 'Bompiani', 1980, 'IT'),\n",
        "(5, 'Good Omens', 'Workman', 1990, 'EN')\n",
        "''')\n",
        "\n",
        "# Insert authors\n",
        "cursor.execute('''\n",
        "INSERT INTO author (author_id, first_name, last_name, nationality)\n",
        "VALUES\n",
        "(1, 'Harper', 'Lee', 'American'),\n",
        "(2, 'George', 'Orwell', 'British'),\n",
        "(3, 'Gabriel', 'García Márquez', 'Colombian'),\n",
        "(4, 'Umberto', 'Eco', 'Italian'),\n",
        "(5, 'Terry', 'Pratchett', 'British'),\n",
        "(6, 'Neil', 'Gaiman', 'British')\n",
        "''')\n",
        "\n",
        "# Insert book-author relationships\n",
        "cursor.execute('''\n",
        "INSERT INTO book_author (book_id, author_id)\n",
        "VALUES\n",
        "(1, 1),\n",
        "(2, 2),\n",
        "(3, 3),\n",
        "(4, 4),\n",
        "(5, 5),\n",
        "(5, 6),\n",
        "(2, 6)\n",
        "''')\n",
        "\n",
        "conn.commit()\n",
        "print(\"Ready!\")"
      ],
      "metadata": {
        "colab": {
          "base_uri": "https://localhost:8080/"
        },
        "id": "kEICAWOJh2OM",
        "outputId": "79ebf8ce-3af4-4cc5-ba8d-8bb53d186b9a"
      },
      "execution_count": 3,
      "outputs": [
        {
          "output_type": "stream",
          "name": "stdout",
          "text": [
            "Ready!\n"
          ]
        }
      ]
    },
    {
      "cell_type": "code",
      "source": [
        "# Query to get all table names\n",
        "cursor.execute(\"SELECT name FROM sqlite_master WHERE type='table';\")\n",
        "\n",
        "# Fetch all results\n",
        "tables = cursor.fetchall()\n",
        "\n",
        "# Print the table names\n",
        "print(\"Tables in the database:\")\n",
        "for table in tables:\n",
        "    print(table[0])"
      ],
      "metadata": {
        "colab": {
          "base_uri": "https://localhost:8080/"
        },
        "id": "gcVJR-gWdx_m",
        "outputId": "a1ac3e88-8494-45ce-984f-1ff6a0e151a9"
      },
      "execution_count": 4,
      "outputs": [
        {
          "output_type": "stream",
          "name": "stdout",
          "text": [
            "Tables in the database:\n",
            "book\n",
            "author\n",
            "book_author\n"
          ]
        }
      ]
    },
    {
      "cell_type": "code",
      "source": [
        "# Get the current directory\n",
        "current_dir = Path.cwd()\n",
        "\n",
        "# List all files in the current directory\n",
        "print(\"Files in the current directory:\")\n",
        "for file_path in current_dir.iterdir():\n",
        "    if file_path.is_file():\n",
        "        print(file_path.name)"
      ],
      "metadata": {
        "colab": {
          "base_uri": "https://localhost:8080/"
        },
        "id": "-eCedeQ3eBGZ",
        "outputId": "3ab9029d-0732-4beb-d242-4ff1e495eb80"
      },
      "execution_count": 6,
      "outputs": [
        {
          "output_type": "stream",
          "name": "stdout",
          "text": [
            "Files in the current directory:\n",
            "lecture01.db\n"
          ]
        }
      ]
    },
    {
      "cell_type": "code",
      "source": [
        "# Select all books\n",
        "cursor.execute(\"SELECT * FROM book\")\n",
        "\n",
        "# Fetch all results\n",
        "books = cursor.fetchall()\n",
        "\n",
        "# Print the book information\n",
        "print(\"List of books:\")\n",
        "for book in books:\n",
        "    print(book)\n"
      ],
      "metadata": {
        "colab": {
          "base_uri": "https://localhost:8080/"
        },
        "id": "UiVCNPhYe9R3",
        "outputId": "d199a9cc-8719-4140-8f99-3eb005c5ca34"
      },
      "execution_count": 7,
      "outputs": [
        {
          "output_type": "stream",
          "name": "stdout",
          "text": [
            "List of books:\n",
            "(1, 'To Kill a Mockingbird', 'HarperCollins', 1960, 'EN')\n",
            "(2, '1984', 'Penguin Books', 1949, 'EN')\n",
            "(3, 'One Hundred Years of Solitude', 'Harper & Row', 1967, 'ES')\n",
            "(4, 'Il Nome della Rosa', 'Bompiani', 1980, 'IT')\n",
            "(5, 'Good Omens', 'Workman', 1990, 'EN')\n"
          ]
        }
      ]
    },
    {
      "cell_type": "code",
      "source": [
        "# Execute a query to select all books\n",
        "cursor.execute(\"SELECT * FROM book\")\n",
        "\n",
        "# Fetch all results\n",
        "books = cursor.fetchall()\n",
        "\n",
        "# Print the books\n",
        "print(\"List of all books:\")\n",
        "for book in books:\n",
        "    print(f\"ID: {book[0]}, Title: {book[1]}, Publisher: {book[2]}, Year: {book[3]}, Language: {book[4]}\")"
      ],
      "metadata": {
        "colab": {
          "base_uri": "https://localhost:8080/"
        },
        "id": "w1TVqd08jdif",
        "outputId": "2d99c33e-8596-4f03-8611-92a288722cab"
      },
      "execution_count": 8,
      "outputs": [
        {
          "output_type": "stream",
          "name": "stdout",
          "text": [
            "List of all books:\n",
            "ID: 1, Title: To Kill a Mockingbird, Publisher: HarperCollins, Year: 1960, Language: EN\n",
            "ID: 2, Title: 1984, Publisher: Penguin Books, Year: 1949, Language: EN\n",
            "ID: 3, Title: One Hundred Years of Solitude, Publisher: Harper & Row, Year: 1967, Language: ES\n",
            "ID: 4, Title: Il Nome della Rosa, Publisher: Bompiani, Year: 1980, Language: IT\n",
            "ID: 5, Title: Good Omens, Publisher: Workman, Year: 1990, Language: EN\n"
          ]
        }
      ]
    },
    {
      "cell_type": "code",
      "source": [
        "cursor.close()"
      ],
      "metadata": {
        "id": "7qsRJByWtn90"
      },
      "execution_count": 22,
      "outputs": []
    },
    {
      "cell_type": "code",
      "source": [
        "from google.colab import files\n",
        "files.download('lecture01.db')"
      ],
      "metadata": {
        "colab": {
          "base_uri": "https://localhost:8080/",
          "height": 17
        },
        "id": "KjnqXbuKmsMC",
        "outputId": "0e45a645-dac8-439c-f12c-540cbb693f5e"
      },
      "execution_count": 23,
      "outputs": [
        {
          "output_type": "display_data",
          "data": {
            "text/plain": [
              "<IPython.core.display.Javascript object>"
            ],
            "application/javascript": [
              "\n",
              "    async function download(id, filename, size) {\n",
              "      if (!google.colab.kernel.accessAllowed) {\n",
              "        return;\n",
              "      }\n",
              "      const div = document.createElement('div');\n",
              "      const label = document.createElement('label');\n",
              "      label.textContent = `Downloading \"${filename}\": `;\n",
              "      div.appendChild(label);\n",
              "      const progress = document.createElement('progress');\n",
              "      progress.max = size;\n",
              "      div.appendChild(progress);\n",
              "      document.body.appendChild(div);\n",
              "\n",
              "      const buffers = [];\n",
              "      let downloaded = 0;\n",
              "\n",
              "      const channel = await google.colab.kernel.comms.open(id);\n",
              "      // Send a message to notify the kernel that we're ready.\n",
              "      channel.send({})\n",
              "\n",
              "      for await (const message of channel.messages) {\n",
              "        // Send a message to notify the kernel that we're ready.\n",
              "        channel.send({})\n",
              "        if (message.buffers) {\n",
              "          for (const buffer of message.buffers) {\n",
              "            buffers.push(buffer);\n",
              "            downloaded += buffer.byteLength;\n",
              "            progress.value = downloaded;\n",
              "          }\n",
              "        }\n",
              "      }\n",
              "      const blob = new Blob(buffers, {type: 'application/binary'});\n",
              "      const a = document.createElement('a');\n",
              "      a.href = window.URL.createObjectURL(blob);\n",
              "      a.download = filename;\n",
              "      div.appendChild(a);\n",
              "      a.click();\n",
              "      div.remove();\n",
              "    }\n",
              "  "
            ]
          },
          "metadata": {}
        },
        {
          "output_type": "display_data",
          "data": {
            "text/plain": [
              "<IPython.core.display.Javascript object>"
            ],
            "application/javascript": [
              "download(\"download_e6eb5d78-9836-4639-ab0d-d794c737bb0e\", \"lecture01.db\", 20480)"
            ]
          },
          "metadata": {}
        }
      ]
    },
    {
      "cell_type": "code",
      "source": [],
      "metadata": {
        "id": "WEuyBFT4noKI"
      },
      "execution_count": null,
      "outputs": []
    }
  ]
}
