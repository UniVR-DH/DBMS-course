{
  "nbformat": 4,
  "nbformat_minor": 0,
  "metadata": {
    "colab": {
      "provenance": [],
      "include_colab_link": true
    },
    "kernelspec": {
      "name": "python3",
      "display_name": "Python 3"
    },
    "language_info": {
      "name": "python"
    }
  },
  "cells": [
    {
      "cell_type": "markdown",
      "metadata": {
        "id": "view-in-github",
        "colab_type": "text"
      },
      "source": [
        "<a href=\"https://colab.research.google.com/github/UniVR-DH/DBMS-course/blob/main/notebooks/lab01.ipynb\" target=\"_parent\"><img src=\"https://colab.research.google.com/assets/colab-badge.svg\" alt=\"Open In Colab\"/></a>"
      ]
    },
    {
      "cell_type": "markdown",
      "source": [
        "# Test of SQLite\n",
        "\n",
        "> SQLite is a Recommended Storage Format for datasets according to the US Library of Congress.  See: https://www.sqlite.org/draft/locrsf.html\n",
        "\n",
        "\n",
        "SQLite is a compact, self-contained database system that allows users to easily organize and analyze data without needing to set up or manage separate database servers. Its simplicity and broad compatibility make it perfect for managing various types of information, from text collections to project metadata.\n",
        "\n",
        "SQLite's extreme portability means it comes pre-installed on most operating systems and devices, making it readily available for use in a wide range of applications and projects."
      ],
      "metadata": {
        "id": "kznty4OGR8bK"
      }
    },
    {
      "cell_type": "markdown",
      "source": [
        "## Connecting to SQLite Database\n",
        "\n",
        "The following Python code establishes a connection to a SQLite database named \"lecture01.db\" and creates a cursor object for executing SQL commands:"
      ],
      "metadata": {
        "id": "PRS9Gbq0ec5o"
      }
    },
    {
      "cell_type": "code",
      "execution_count": 1,
      "metadata": {
        "id": "VOI-ZgbHdkhB"
      },
      "outputs": [],
      "source": [
        "import sqlite3\n",
        "conn = sqlite3.connect(\"lecture01.db\")\n",
        "cursor = conn.cursor()"
      ]
    },
    {
      "cell_type": "markdown",
      "source": [
        "**Warning for Google Colab users:** If you're running this code in Colab, be aware that the database file will be created in the temporary runtime environment and will not persist after the session ends.\n",
        "\n",
        "For persistent storage in Colab, consider using Google Drive integration or download the file and upload it when needed."
      ],
      "metadata": {
        "id": "veNQCnkEet1P"
      }
    },
    {
      "cell_type": "markdown",
      "source": [
        "## Creating a Table\n",
        "\n",
        "The next command creates a table named \"book\" with columns for book details, and the Python code executes the command and commits the changes:"
      ],
      "metadata": {
        "id": "OdscD09Ge58p"
      }
    },
    {
      "cell_type": "code",
      "source": [
        "cursor.execute('''\n",
        "CREATE TABLE book (\n",
        "    book_id INTEGER PRIMARY KEY,\n",
        "    title VARCHAR(255) NOT NULL,\n",
        "    publisher_name VARCHAR(100),\n",
        "    publication_year INTEGER,\n",
        "    language CHAR(2)\n",
        ");\n",
        "''')\n",
        "\n",
        "conn.commit()\n",
        "print(\"Ready!\")"
      ],
      "metadata": {
        "id": "ywidmkirRvbw",
        "outputId": "8c99ef95-5798-4739-e119-42ed65e1c76c",
        "colab": {
          "base_uri": "https://localhost:8080/"
        }
      },
      "execution_count": 2,
      "outputs": [
        {
          "output_type": "stream",
          "name": "stdout",
          "text": [
            "Ready!\n"
          ]
        }
      ]
    },
    {
      "cell_type": "markdown",
      "source": [
        "## Listing All Tables in SQLite Database\n",
        "\n",
        "This Python code retrieves and displays all table names in the connected SQLite database:\n",
        "\n",
        "This snippet demonstrates how to query SQLite's system table `sqlite_master` to get a list of all tables in the database, then prints each table name.\n",
        "\n",
        "It's useful for database exploration and verification of table creation."
      ],
      "metadata": {
        "id": "EsQgckxFfIuf"
      }
    },
    {
      "cell_type": "code",
      "source": [
        "# Query to get all table names\n",
        "cursor.execute(\"SELECT name FROM sqlite_master WHERE type='table';\")\n",
        "\n",
        "# Fetch all results\n",
        "tables = cursor.fetchall()\n",
        "\n",
        "# Print the table names\n",
        "print(\"Tables in the database:\")\n",
        "for table in tables:\n",
        "    print(table[0])"
      ],
      "metadata": {
        "colab": {
          "base_uri": "https://localhost:8080/"
        },
        "id": "gcVJR-gWdx_m",
        "outputId": "cea49c02-e5f2-459e-b555-eb2ca288dc21"
      },
      "execution_count": 3,
      "outputs": [
        {
          "output_type": "stream",
          "name": "stdout",
          "text": [
            "Tables in the database:\n",
            "book\n"
          ]
        }
      ]
    },
    {
      "cell_type": "markdown",
      "source": [
        "## Creating Author and Book-Author Relationship Tables\n",
        "\n",
        "This SQL code creates two new tables: \"author\" for storing author information, and \"book_author\" for managing the many-to-many relationship between books and authors:\n",
        "\n",
        "The second command declares a FOREIGN KEY, demonstrating a common database design pattern for representing many-to-many relationships."
      ],
      "metadata": {
        "id": "FP2FSgI6fV2l"
      }
    },
    {
      "cell_type": "code",
      "source": [
        "cursor.execute('''\n",
        "CREATE TABLE author (\n",
        "    author_id INTEGER PRIMARY KEY,\n",
        "    first_name VARCHAR(50) NOT NULL,\n",
        "    last_name VARCHAR(50) NOT NULL,\n",
        "    nationality VARCHAR(50)\n",
        ")\n",
        "''')\n",
        "\n",
        "cursor.execute('''\n",
        "CREATE TABLE book_author (\n",
        "    book_id INTEGER,\n",
        "    author_id INTEGER,\n",
        "    PRIMARY KEY (book_id, author_id),\n",
        "    FOREIGN KEY (book_id) REFERENCES book(book_id),\n",
        "    FOREIGN KEY (author_id) REFERENCES author(author_id)\n",
        ")\n",
        "''')\n",
        "\n",
        "conn.commit()\n",
        "print(\"Ready!\")"
      ],
      "metadata": {
        "colab": {
          "base_uri": "https://localhost:8080/"
        },
        "id": "RRTwDhgtdxo7",
        "outputId": "48e92e9b-caed-4449-ad29-e97a2112ec40"
      },
      "execution_count": 4,
      "outputs": [
        {
          "output_type": "stream",
          "name": "stdout",
          "text": [
            "Ready!\n"
          ]
        }
      ]
    },
    {
      "cell_type": "markdown",
      "source": [
        "# INSERTING DATA"
      ],
      "metadata": {
        "id": "RPL6FIYwfl3I"
      }
    },
    {
      "cell_type": "code",
      "source": [
        "# Insert books\n",
        "cursor.execute('''\n",
        "INSERT INTO book (book_id, title, publisher_name, publication_year, language)\n",
        "VALUES\n",
        "(1, 'To Kill a Mockingbird', 'HarperCollins', 1960, 'EN'),\n",
        "(2, '1984', 'Penguin Books', 1949, 'EN'),\n",
        "(3, 'One Hundred Years of Solitude', 'Harper & Row', 1967, 'ES'),\n",
        "(4, 'Il Nome della Rosa', 'Bompiani', 1980, 'IT'),\n",
        "(5, 'Good Omens', 'Workman', 1990, 'EN')\n",
        "''')\n",
        "\n",
        "# Insert authors\n",
        "cursor.execute('''\n",
        "INSERT INTO author (author_id, first_name, last_name, nationality)\n",
        "VALUES\n",
        "(1, 'Harper', 'Lee', 'American'),\n",
        "(2, 'George', 'Orwell', 'British'),\n",
        "(3, 'Gabriel', 'García Márquez', 'Colombian'),\n",
        "(4, 'Umberto', 'Eco', 'Italian'),\n",
        "(5, 'Terry', 'Pratchett', 'British'),\n",
        "(6, 'Neil', 'Gaiman', 'British')\n",
        "''')\n",
        "\n",
        "# Insert book-author relationships\n",
        "cursor.execute('''\n",
        "INSERT INTO book_author (book_id, author_id)\n",
        "VALUES\n",
        "(1, 1),\n",
        "(2, 2),\n",
        "(3, 3),\n",
        "(4, 4),\n",
        "(5, 5),\n",
        "(5, 6),\n",
        "(2, 6)\n",
        "''')\n",
        "\n",
        "conn.commit()\n",
        "print(\"Ready!\")"
      ],
      "metadata": {
        "colab": {
          "base_uri": "https://localhost:8080/"
        },
        "id": "kEICAWOJh2OM",
        "outputId": "241be0a7-f2a3-4875-a7ef-a672c5ba2e4a"
      },
      "execution_count": 5,
      "outputs": [
        {
          "output_type": "stream",
          "name": "stdout",
          "text": [
            "Ready!\n"
          ]
        }
      ]
    },
    {
      "cell_type": "markdown",
      "source": [
        "### AUTO INCREMENT for KEYS\n",
        "\n",
        "In standard SQL we can use the `CREATE SEQUENCE` statement, which creates a new sequence number generator and use that one to generate `DEFAULT` values.\n",
        "\n",
        "In SQLite this is not supported.\n",
        "\n",
        "So a command like\n",
        "`CREATE SEQUENCE author_id_seq START 101;` will generate an error\n",
        "\n",
        "In SQLite instead there is the `AUTOINCREMENT` for the attribute.\n",
        "See below an example.\n",
        "\n"
      ],
      "metadata": {
        "id": "xTV-aYh-NqM9"
      }
    },
    {
      "cell_type": "code",
      "source": [
        "cursor.execute('''\n",
        "CREATE TABLE book_review (\n",
        "    book_id INTEGER,\n",
        "    review_id INTEGER PRIMARY KEY AUTOINCREMENT,\n",
        "    comment text,\n",
        "    FOREIGN KEY (book_id) REFERENCES book(book_id)\n",
        ")\n",
        "''')\n",
        "\n",
        "\n",
        "# Insert book-review relationships\n",
        "cursor.execute('''\n",
        "INSERT INTO book_review (book_id, comment)\n",
        "VALUES\n",
        "(5, \"good\"),\n",
        "(2, \"nice\"),\n",
        "(2, \"decent\"),\n",
        "(4, \"great!\"),\n",
        "(4, \"great!\"),\n",
        "(4, \"not so great\")\n",
        "''')\n",
        "\n",
        "conn.commit()\n",
        "print(\"Ready!\")"
      ],
      "metadata": {
        "id": "tg_J9GMrNp1O",
        "outputId": "28a9d99c-6194-41dd-d29d-e39843051ccc",
        "colab": {
          "base_uri": "https://localhost:8080/"
        }
      },
      "execution_count": 6,
      "outputs": [
        {
          "output_type": "stream",
          "name": "stdout",
          "text": [
            "Ready!\n"
          ]
        }
      ]
    },
    {
      "cell_type": "code",
      "source": [
        "# Select all books\n",
        "cursor.execute(\"SELECT * FROM book_review\")\n",
        "\n",
        "# Fetch all results\n",
        "result = cursor.fetchall()\n",
        "\n",
        "# Print the book information\n",
        "print(\"SQL results:\")\n",
        "for r in result:\n",
        "    print(r)\n"
      ],
      "metadata": {
        "id": "1LTBePPzSkjz",
        "outputId": "1225ba20-b318-41be-f2e4-459f5000ee7e",
        "colab": {
          "base_uri": "https://localhost:8080/"
        }
      },
      "execution_count": 7,
      "outputs": [
        {
          "output_type": "stream",
          "name": "stdout",
          "text": [
            "SQL results:\n",
            "(5, 1, 'good')\n",
            "(2, 2, 'nice')\n",
            "(2, 3, 'decent')\n",
            "(4, 4, 'great!')\n",
            "(4, 5, 'great!')\n",
            "(4, 6, 'not so great')\n"
          ]
        }
      ]
    },
    {
      "cell_type": "markdown",
      "source": [
        "# Testing Storage"
      ],
      "metadata": {
        "id": "bNauLYV2fux0"
      }
    },
    {
      "cell_type": "code",
      "source": [
        "from pathlib import Path\n",
        "\n",
        "# Get the current directory\n",
        "current_dir = Path.cwd()\n",
        "\n",
        "# List all files in the current directory\n",
        "print(\"Files in the current directory:\")\n",
        "for file_path in current_dir.iterdir():\n",
        "    if file_path.is_file():\n",
        "        print(file_path.name)"
      ],
      "metadata": {
        "colab": {
          "base_uri": "https://localhost:8080/"
        },
        "id": "-eCedeQ3eBGZ",
        "outputId": "21ffe2ad-c913-46ab-c4ad-788bb4654a48"
      },
      "execution_count": 8,
      "outputs": [
        {
          "output_type": "stream",
          "name": "stdout",
          "text": [
            "Files in the current directory:\n",
            "lecture01.db\n"
          ]
        }
      ]
    },
    {
      "cell_type": "code",
      "source": [
        "# Select all books\n",
        "cursor.execute(\"SELECT * FROM book\")\n",
        "\n",
        "# Fetch all results\n",
        "books = cursor.fetchall()\n",
        "\n",
        "# Print the book information\n",
        "print(\"List of books:\")\n",
        "for book in books:\n",
        "    print(book)\n"
      ],
      "metadata": {
        "colab": {
          "base_uri": "https://localhost:8080/"
        },
        "id": "UiVCNPhYe9R3",
        "outputId": "78dec2df-b79c-48b6-e92b-e15e4b6df692"
      },
      "execution_count": 9,
      "outputs": [
        {
          "output_type": "stream",
          "name": "stdout",
          "text": [
            "List of books:\n",
            "(1, 'To Kill a Mockingbird', 'HarperCollins', 1960, 'EN')\n",
            "(2, '1984', 'Penguin Books', 1949, 'EN')\n",
            "(3, 'One Hundred Years of Solitude', 'Harper & Row', 1967, 'ES')\n",
            "(4, 'Il Nome della Rosa', 'Bompiani', 1980, 'IT')\n",
            "(5, 'Good Omens', 'Workman', 1990, 'EN')\n"
          ]
        }
      ]
    },
    {
      "cell_type": "code",
      "source": [
        "# Execute a query to select all books\n",
        "cursor.execute(\"SELECT * FROM book\")\n",
        "\n",
        "# Fetch all results\n",
        "books = cursor.fetchall()\n",
        "\n",
        "# Print the books\n",
        "print(\"List of all books:\")\n",
        "# We use the python string format  syntax here to make the output more readable\n",
        "# see: https://docs.python.org/3/tutorial/inputoutput.html#tut-f-strings\n",
        "for book in books:\n",
        "    print(f\"ID: {book[0]}, Title: {book[1]}, Publisher: {book[2]}, Year: {book[3]}, Language: {book[4]}\")"
      ],
      "metadata": {
        "colab": {
          "base_uri": "https://localhost:8080/"
        },
        "id": "w1TVqd08jdif",
        "outputId": "44ce8ff6-3533-42dd-846b-9d44340adaf9"
      },
      "execution_count": 10,
      "outputs": [
        {
          "output_type": "stream",
          "name": "stdout",
          "text": [
            "List of all books:\n",
            "ID: 1, Title: To Kill a Mockingbird, Publisher: HarperCollins, Year: 1960, Language: EN\n",
            "ID: 2, Title: 1984, Publisher: Penguin Books, Year: 1949, Language: EN\n",
            "ID: 3, Title: One Hundred Years of Solitude, Publisher: Harper & Row, Year: 1967, Language: ES\n",
            "ID: 4, Title: Il Nome della Rosa, Publisher: Bompiani, Year: 1980, Language: IT\n",
            "ID: 5, Title: Good Omens, Publisher: Workman, Year: 1990, Language: EN\n"
          ]
        }
      ]
    },
    {
      "cell_type": "code",
      "source": [
        "cursor.close()"
      ],
      "metadata": {
        "id": "7qsRJByWtn90"
      },
      "execution_count": 11,
      "outputs": []
    },
    {
      "cell_type": "markdown",
      "source": [
        "##  Remember to Save your Database file\n",
        "Colab Command to Download the SQLite file you are using,  in this way you have a `backup`"
      ],
      "metadata": {
        "id": "aNMA6GpJTGB9"
      }
    },
    {
      "cell_type": "code",
      "source": [
        "from google.colab import files\n",
        "files.download('lecture01.db')"
      ],
      "metadata": {
        "colab": {
          "base_uri": "https://localhost:8080/",
          "height": 17
        },
        "id": "KjnqXbuKmsMC",
        "outputId": "f4627be1-d610-4186-9c13-c375f2a7a92b"
      },
      "execution_count": 12,
      "outputs": [
        {
          "output_type": "display_data",
          "data": {
            "text/plain": [
              "<IPython.core.display.Javascript object>"
            ],
            "application/javascript": [
              "\n",
              "    async function download(id, filename, size) {\n",
              "      if (!google.colab.kernel.accessAllowed) {\n",
              "        return;\n",
              "      }\n",
              "      const div = document.createElement('div');\n",
              "      const label = document.createElement('label');\n",
              "      label.textContent = `Downloading \"${filename}\": `;\n",
              "      div.appendChild(label);\n",
              "      const progress = document.createElement('progress');\n",
              "      progress.max = size;\n",
              "      div.appendChild(progress);\n",
              "      document.body.appendChild(div);\n",
              "\n",
              "      const buffers = [];\n",
              "      let downloaded = 0;\n",
              "\n",
              "      const channel = await google.colab.kernel.comms.open(id);\n",
              "      // Send a message to notify the kernel that we're ready.\n",
              "      channel.send({})\n",
              "\n",
              "      for await (const message of channel.messages) {\n",
              "        // Send a message to notify the kernel that we're ready.\n",
              "        channel.send({})\n",
              "        if (message.buffers) {\n",
              "          for (const buffer of message.buffers) {\n",
              "            buffers.push(buffer);\n",
              "            downloaded += buffer.byteLength;\n",
              "            progress.value = downloaded;\n",
              "          }\n",
              "        }\n",
              "      }\n",
              "      const blob = new Blob(buffers, {type: 'application/binary'});\n",
              "      const a = document.createElement('a');\n",
              "      a.href = window.URL.createObjectURL(blob);\n",
              "      a.download = filename;\n",
              "      div.appendChild(a);\n",
              "      a.click();\n",
              "      div.remove();\n",
              "    }\n",
              "  "
            ]
          },
          "metadata": {}
        },
        {
          "output_type": "display_data",
          "data": {
            "text/plain": [
              "<IPython.core.display.Javascript object>"
            ],
            "application/javascript": [
              "download(\"download_0b41a0fb-b906-43f9-b59c-aad93a2b178c\", \"lecture01.db\", 28672)"
            ]
          },
          "metadata": {}
        }
      ]
    },
    {
      "cell_type": "code",
      "source": [],
      "metadata": {
        "id": "WEuyBFT4noKI"
      },
      "execution_count": 12,
      "outputs": []
    }
  ]
}