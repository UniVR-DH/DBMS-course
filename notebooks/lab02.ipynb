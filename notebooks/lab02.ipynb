{
  "nbformat": 4,
  "nbformat_minor": 0,
  "metadata": {
    "colab": {
      "provenance": [],
      "authorship_tag": "ABX9TyMRpT4sfm9UC/llrBYkLJqT",
      "include_colab_link": true
    },
    "kernelspec": {
      "name": "python3",
      "display_name": "Python 3"
    },
    "language_info": {
      "name": "python"
    }
  },
  "cells": [
    {
      "cell_type": "markdown",
      "metadata": {
        "id": "view-in-github",
        "colab_type": "text"
      },
      "source": [
        "<a href=\"https://colab.research.google.com/github/UniVR-DH/DBMS-course/blob/main/notebooks/lab02.ipynb\" target=\"_parent\"><img src=\"https://colab.research.google.com/assets/colab-badge.svg\" alt=\"Open In Colab\"/></a>"
      ]
    },
    {
      "cell_type": "markdown",
      "source": [
        "# SQLite Exercise on CREATE, ALTER, DELETE, SELECT Queries\n",
        "\n",
        "We are going to create some tables, test with different functions for the constraints, test the alter table command as well.\n",
        "\n",
        "You can compare the behaviour of another two systems (MySQL and Postgres) here https://www.db-fiddle.com/"
      ],
      "metadata": {
        "id": "-WPd4fpvndIR"
      }
    },
    {
      "cell_type": "code",
      "execution_count": 1,
      "metadata": {
        "id": "xhiB1--YVHRB"
      },
      "outputs": [],
      "source": [
        "import sqlite3\n",
        "conn = sqlite3.connect(\"exams.db\")\n",
        "cursor = conn.cursor()"
      ]
    },
    {
      "cell_type": "code",
      "source": [
        "cursor.execute('''\n",
        "CREATE TABLE student (\n",
        "   studid INTEGER PRIMARY KEY,\n",
        "   name VARCHAR(50),\n",
        "   semester INTEGER\n",
        ");\n",
        "''')\n",
        "\n",
        "cursor.execute('''\n",
        "CREATE TABLE professor (\n",
        "   id INTEGER PRIMARY KEY,\n",
        "   name VARCHAR(50)\n",
        ");\n",
        "''')\n",
        "\n",
        "\n",
        "#-- Insert the data\n",
        "cursor.execute('''\n",
        "INSERT INTO student (studid, name, semester) VALUES\n",
        "   (24002, 'Xenokrates', 18),\n",
        "   (25403, 'Jonas', 12),\n",
        "   (26120, 'Fichte', 10),\n",
        "   (26830, 'Aristoxenos', 8),\n",
        "   (27550, 'Schopenhauer', 6),\n",
        "   (28106, 'Carnap', 3),\n",
        "   (29120, 'Theophrastos', 2),\n",
        "   (29555, 'Feuerbach', 12),\n",
        "   (30000, 'Fe', 3);\n",
        "''')\n",
        "\n",
        "\n",
        "cursor.execute('''\n",
        "-- Insert professors data\n",
        "INSERT INTO professor (id, name) VALUES\n",
        "   (2125, 'Socrates'),\n",
        "   (2126, 'Russel'),\n",
        "   (2127, 'Kant');\n",
        "''')\n",
        "\n",
        "conn.commit()\n",
        "print(\"Ready!\")"
      ],
      "metadata": {
        "colab": {
          "base_uri": "https://localhost:8080/"
        },
        "id": "6HzK3FSinc0A",
        "outputId": "6ef699af-ddb4-4be1-92a0-661035682a1c"
      },
      "execution_count": 2,
      "outputs": [
        {
          "output_type": "stream",
          "name": "stdout",
          "text": [
            "Ready!\n"
          ]
        }
      ]
    },
    {
      "cell_type": "markdown",
      "source": [
        "Insert other two professors \"Susan\" and \"Marie\""
      ],
      "metadata": {
        "id": "QcDT7a7HBmL4"
      }
    },
    {
      "cell_type": "code",
      "source": [],
      "metadata": {
        "id": "Bfd9tDfPByv0"
      },
      "execution_count": 2,
      "outputs": []
    },
    {
      "cell_type": "markdown",
      "source": [
        "## Autogenerate values for primary keys:\n",
        "\n",
        "The following command is standard SQL **but** is not valid in SQLite -- it works in Postgres\n",
        "\n",
        "```\n",
        "CREATE SEQUENCE course_seq START WITH 945;\n",
        "\n",
        "CREATE TABLE course (\n",
        "     id INTEGER PRIMARY KEY DEFAULT nextval('course_seq'),\n",
        "   title VARCHAR(50)\n",
        ");\n",
        "```\n",
        "\n",
        "\n",
        "SQLite does not support `SEQUENCE`, use `AUTOINCREMENT` see code in  the next cell\n",
        "\n",
        "\n",
        "Note that SQLite has a \"ancillary\" table called `sqlite_sequence` where it keeps info about these \"number generators\"\n"
      ],
      "metadata": {
        "id": "0isLrMFOpE0j"
      }
    },
    {
      "cell_type": "code",
      "source": [
        "cursor.execute('''\n",
        "CREATE TABLE course (\n",
        "     id INTEGER PRIMARY KEY AUTOINCREMENT,\n",
        "   title VARCHAR(50)\n",
        ");\n",
        "''')\n",
        "\n",
        "# Note: In SQLite, if you need to start the AUTOINCREMENT\n",
        "# from a specific number like 2125 or 945, you'll need to\n",
        "# modify the sqlite_sequence table after creating your tables:\n",
        "cursor.execute('''\n",
        "INSERT INTO sqlite_sequence(seq, name) VALUES (  944 , 'course');\n",
        "''')\n",
        "\n",
        "# If you do not use the command above, then the AUTOINCREMENT\n",
        "# will simply start from 1\n",
        "\n",
        "conn.commit()\n",
        "print(\"Ready!\")"
      ],
      "metadata": {
        "colab": {
          "base_uri": "https://localhost:8080/"
        },
        "id": "9YMHh2YXoT9U",
        "outputId": "e2c1ae83-da03-4e4a-f4fc-f995b2a9dd97"
      },
      "execution_count": 3,
      "outputs": [
        {
          "output_type": "stream",
          "name": "stdout",
          "text": [
            "Ready!\n"
          ]
        }
      ]
    },
    {
      "cell_type": "code",
      "source": [
        "cursor.execute(\"SELECT name, seq FROM sqlite_sequence\")\n",
        "rows = cursor.fetchall()\n",
        "\n",
        "for row in rows:\n",
        "  print(row)"
      ],
      "metadata": {
        "colab": {
          "base_uri": "https://localhost:8080/"
        },
        "id": "VxmQobfcuWdH",
        "outputId": "2e7dfd35-4e56-4f07-a5ee-39cc4f10a01b"
      },
      "execution_count": 4,
      "outputs": [
        {
          "output_type": "stream",
          "name": "stdout",
          "text": [
            "('course', 944)\n"
          ]
        }
      ]
    },
    {
      "cell_type": "markdown",
      "source": [
        "**Inserting courses by specifying only the title is possible because we have declared the primary  key to be an autoincrement**"
      ],
      "metadata": {
        "id": "NNcvOPJUrROv"
      }
    },
    {
      "cell_type": "code",
      "source": [
        "cursor.execute('''\n",
        "INSERT INTO course (title) VALUES\n",
        "   ('Basics'),\n",
        "   ('History'),\n",
        "   ('Ethics');\n",
        "''')\n",
        "conn.commit()\n",
        "print(\"Ready!\")"
      ],
      "metadata": {
        "colab": {
          "base_uri": "https://localhost:8080/"
        },
        "id": "yRIOsqXgrBOe",
        "outputId": "ca68cafc-be27-40bd-cf22-fb564fa89160"
      },
      "execution_count": 5,
      "outputs": [
        {
          "output_type": "stream",
          "name": "stdout",
          "text": [
            "Ready!\n"
          ]
        }
      ]
    },
    {
      "cell_type": "markdown",
      "source": [
        "**In the box above we need to specify the attribute name, if we skip it we get an error!  See below**"
      ],
      "metadata": {
        "id": "hss4K4WHrcH-"
      }
    },
    {
      "cell_type": "code",
      "source": [
        "# we write course VALUES instead of course(title) VALUES and we get an error\n",
        "cursor.execute('''\n",
        "INSERT INTO course VALUES\n",
        "   ('Basics'),\n",
        "   ('History'),\n",
        "   ('Ethics');\n",
        "''')\n",
        "conn.commit()\n",
        "print(\"Ready!\")"
      ],
      "metadata": {
        "colab": {
          "base_uri": "https://localhost:8080/",
          "height": 211
        },
        "id": "9PFEQyZrrOgk",
        "outputId": "d9dbfdc3-704b-4ea4-ba77-27b573e246f1"
      },
      "execution_count": 6,
      "outputs": [
        {
          "output_type": "error",
          "ename": "OperationalError",
          "evalue": "table course has 2 columns but 1 values were supplied",
          "traceback": [
            "\u001b[0;31m---------------------------------------------------------------------------\u001b[0m",
            "\u001b[0;31mOperationalError\u001b[0m                          Traceback (most recent call last)",
            "\u001b[0;32m<ipython-input-6-a32742f65933>\u001b[0m in \u001b[0;36m<cell line: 2>\u001b[0;34m()\u001b[0m\n\u001b[1;32m      1\u001b[0m \u001b[0;31m# we write course VALUES instead of course(title) VALUES and we get an error\u001b[0m\u001b[0;34m\u001b[0m\u001b[0;34m\u001b[0m\u001b[0m\n\u001b[0;32m----> 2\u001b[0;31m cursor.execute('''\n\u001b[0m\u001b[1;32m      3\u001b[0m \u001b[0mINSERT\u001b[0m \u001b[0mINTO\u001b[0m \u001b[0mcourse\u001b[0m \u001b[0mVALUES\u001b[0m\u001b[0;34m\u001b[0m\u001b[0;34m\u001b[0m\u001b[0m\n\u001b[1;32m      4\u001b[0m    \u001b[0;34m(\u001b[0m\u001b[0;34m'Basics'\u001b[0m\u001b[0;34m)\u001b[0m\u001b[0;34m,\u001b[0m\u001b[0;34m\u001b[0m\u001b[0;34m\u001b[0m\u001b[0m\n\u001b[1;32m      5\u001b[0m    \u001b[0;34m(\u001b[0m\u001b[0;34m'History'\u001b[0m\u001b[0;34m)\u001b[0m\u001b[0;34m,\u001b[0m\u001b[0;34m\u001b[0m\u001b[0;34m\u001b[0m\u001b[0m\n",
            "\u001b[0;31mOperationalError\u001b[0m: table course has 2 columns but 1 values were supplied"
          ]
        }
      ]
    },
    {
      "cell_type": "markdown",
      "source": [
        "**Let's see the effect of AUTOINCREMENT**"
      ],
      "metadata": {
        "id": "roRinAx8vFrh"
      }
    },
    {
      "cell_type": "code",
      "source": [
        "cursor.execute(\"SELECT name, seq FROM sqlite_sequence\")\n",
        "rows = cursor.fetchall()\n",
        "\n",
        "for row in rows:\n",
        "  print(row)"
      ],
      "metadata": {
        "colab": {
          "base_uri": "https://localhost:8080/"
        },
        "id": "k7fPLb37t48Z",
        "outputId": "05b620ba-8af5-4b99-db01-5c176921d10c"
      },
      "execution_count": 7,
      "outputs": [
        {
          "output_type": "stream",
          "name": "stdout",
          "text": [
            "('course', 947)\n"
          ]
        }
      ]
    },
    {
      "cell_type": "code",
      "source": [
        "cursor.execute(\"SELECT * FROM course\")\n",
        "rows = cursor.fetchall()\n",
        "\n",
        "for row in rows:\n",
        "  print(row)"
      ],
      "metadata": {
        "colab": {
          "base_uri": "https://localhost:8080/"
        },
        "id": "-5a-teWAu9cG",
        "outputId": "968a71d4-de89-4673-d159-d594561d9f04"
      },
      "execution_count": 8,
      "outputs": [
        {
          "output_type": "stream",
          "name": "stdout",
          "text": [
            "(945, 'Basics')\n",
            "(946, 'History')\n",
            "(947, 'Ethics')\n"
          ]
        }
      ]
    },
    {
      "cell_type": "markdown",
      "source": [
        "Despite the autoincrement we can still manually specify the value ofr the primary key... but **the system has extra work to do!**"
      ],
      "metadata": {
        "id": "83N64OR6rw5o"
      }
    },
    {
      "cell_type": "code",
      "source": [
        "cursor.execute('''\n",
        "INSERT INTO course(id, title) VALUES\n",
        "   ('10', 'Adv. Basics'),\n",
        "   ('11', 'Adv. History'),\n",
        "   ('12', 'Adv. Ethics');\n",
        "''')\n",
        "conn.commit()\n",
        "print(\"Ready!\")"
      ],
      "metadata": {
        "colab": {
          "base_uri": "https://localhost:8080/"
        },
        "id": "Om6FBqYkp8hU",
        "outputId": "d15ff1e0-6b71-47b6-fb5f-12aabe2789b6"
      },
      "execution_count": 9,
      "outputs": [
        {
          "output_type": "stream",
          "name": "stdout",
          "text": [
            "Ready!\n"
          ]
        }
      ]
    },
    {
      "cell_type": "code",
      "source": [
        "cursor.execute(\"SELECT * FROM course\")\n",
        "rows = cursor.fetchall()\n",
        "\n",
        "for row in rows:\n",
        "  print(row)"
      ],
      "metadata": {
        "colab": {
          "base_uri": "https://localhost:8080/"
        },
        "id": "piHv06wZsWsK",
        "outputId": "8f4630e5-cd49-478c-8a08-9e8e90686e19"
      },
      "execution_count": 10,
      "outputs": [
        {
          "output_type": "stream",
          "name": "stdout",
          "text": [
            "(10, 'Adv. Basics')\n",
            "(11, 'Adv. History')\n",
            "(12, 'Adv. Ethics')\n",
            "(945, 'Basics')\n",
            "(946, 'History')\n",
            "(947, 'Ethics')\n"
          ]
        }
      ]
    },
    {
      "cell_type": "code",
      "source": [
        "cursor.execute(\"SELECT name, seq FROM sqlite_sequence\")\n",
        "rows = cursor.fetchall()\n",
        "\n",
        "for row in rows:\n",
        "  print(row)"
      ],
      "metadata": {
        "colab": {
          "base_uri": "https://localhost:8080/"
        },
        "id": "Ie3TT93nwjMQ",
        "outputId": "4b728b1e-4acb-468d-d7b5-3a7eabc8aed2"
      },
      "execution_count": 11,
      "outputs": [
        {
          "output_type": "stream",
          "name": "stdout",
          "text": [
            "('course', 947)\n"
          ]
        }
      ]
    },
    {
      "cell_type": "markdown",
      "source": [
        "**Look at the following command, what is going to happen?**"
      ],
      "metadata": {
        "id": "cqePAJ9cvwL6"
      }
    },
    {
      "cell_type": "code",
      "source": [
        "cursor.execute('''\n",
        "INSERT INTO course(id, title) VALUES\n",
        "   ('948', 'English 1'),\n",
        "   ('949', 'French 1');\n",
        "''')\n",
        "conn.commit()\n",
        "print(\"Ready!\")"
      ],
      "metadata": {
        "colab": {
          "base_uri": "https://localhost:8080/"
        },
        "id": "420WlDF_r7P_",
        "outputId": "95a5da3f-3d43-440d-e172-969276a23898"
      },
      "execution_count": 12,
      "outputs": [
        {
          "output_type": "stream",
          "name": "stdout",
          "text": [
            "Ready!\n"
          ]
        }
      ]
    },
    {
      "cell_type": "code",
      "source": [
        "cursor.execute(\"SELECT name, seq FROM sqlite_sequence\")\n",
        "rows = cursor.fetchall()\n",
        "\n",
        "for row in rows:\n",
        "  print(row)"
      ],
      "metadata": {
        "colab": {
          "base_uri": "https://localhost:8080/"
        },
        "id": "o2ud4_SywKqF",
        "outputId": "e1d4f3d5-360f-4263-a9f9-b7dc4f4fd095"
      },
      "execution_count": 13,
      "outputs": [
        {
          "output_type": "stream",
          "name": "stdout",
          "text": [
            "('course', 949)\n"
          ]
        }
      ]
    },
    {
      "cell_type": "code",
      "source": [
        "cursor.execute(\"SELECT * FROM course\")\n",
        "rows = cursor.fetchall()\n",
        "\n",
        "for row in rows:\n",
        "  print(row)"
      ],
      "metadata": {
        "colab": {
          "base_uri": "https://localhost:8080/"
        },
        "id": "8X3f5rz1v1le",
        "outputId": "802a6a2b-1eec-4e18-800f-9c05810c94b7"
      },
      "execution_count": 14,
      "outputs": [
        {
          "output_type": "stream",
          "name": "stdout",
          "text": [
            "(10, 'Adv. Basics')\n",
            "(11, 'Adv. History')\n",
            "(12, 'Adv. Ethics')\n",
            "(945, 'Basics')\n",
            "(946, 'History')\n",
            "(947, 'Ethics')\n",
            "(948, 'English 1')\n",
            "(949, 'French 1')\n"
          ]
        }
      ]
    },
    {
      "cell_type": "markdown",
      "source": [
        "**...and now??**"
      ],
      "metadata": {
        "id": "EgxDQniTv4bL"
      }
    },
    {
      "cell_type": "code",
      "source": [
        "cursor.execute('''\n",
        "INSERT INTO course (title) VALUES\n",
        "   ('English 2'),\n",
        "   ('French 2');\n",
        "''')\n",
        "conn.commit()\n",
        "print(\"Ready!\")"
      ],
      "metadata": {
        "colab": {
          "base_uri": "https://localhost:8080/"
        },
        "id": "Qpe9LKUisP6X",
        "outputId": "db22de4c-7b96-41c5-cdf8-cff6ae9efa57"
      },
      "execution_count": 16,
      "outputs": [
        {
          "output_type": "stream",
          "name": "stdout",
          "text": [
            "Ready!\n"
          ]
        }
      ]
    },
    {
      "cell_type": "code",
      "source": [
        "cursor.execute(\"SELECT * FROM course\")\n",
        "rows = cursor.fetchall()\n",
        "\n",
        "for row in rows:\n",
        "  print(row)"
      ],
      "metadata": {
        "colab": {
          "base_uri": "https://localhost:8080/"
        },
        "id": "x-UqYgwZwFPv",
        "outputId": "57e5e809-8f39-434c-b4f5-f8eaff55dcb9"
      },
      "execution_count": 17,
      "outputs": [
        {
          "output_type": "stream",
          "name": "stdout",
          "text": [
            "(10, 'Adv. Basics')\n",
            "(11, 'Adv. History')\n",
            "(12, 'Adv. Ethics')\n",
            "(945, 'Basics')\n",
            "(946, 'History')\n",
            "(947, 'Ethics')\n",
            "(948, 'English 1')\n",
            "(949, 'French 1')\n",
            "(950, 'English 2')\n",
            "(951, 'French 2')\n",
            "(952, 'English 2')\n",
            "(953, 'French 2')\n"
          ]
        }
      ]
    },
    {
      "cell_type": "markdown",
      "source": [
        "## ALTER TABLE Test\n"
      ],
      "metadata": {
        "id": "YdcjQzRjxJAK"
      }
    },
    {
      "cell_type": "code",
      "source": [
        "cursor.execute('''\n",
        "ALTER TABLE course ADD COLUMN ects INT;\n",
        "''')\n",
        "\n",
        "cursor.execute(\"SELECT * FROM course\")\n",
        "rows = cursor.fetchall()\n",
        "\n",
        "for row in rows:\n",
        "  print(row)\n",
        "conn.commit()\n",
        "print(\"Ready!\")"
      ],
      "metadata": {
        "colab": {
          "base_uri": "https://localhost:8080/"
        },
        "id": "zmUotm_It1lP",
        "outputId": "63293afa-34e5-4962-eb1c-b267a7fef0fc"
      },
      "execution_count": 18,
      "outputs": [
        {
          "output_type": "stream",
          "name": "stdout",
          "text": [
            "(10, 'Adv. Basics', None)\n",
            "(11, 'Adv. History', None)\n",
            "(12, 'Adv. Ethics', None)\n",
            "(945, 'Basics', None)\n",
            "(946, 'History', None)\n",
            "(947, 'Ethics', None)\n",
            "(948, 'English 1', None)\n",
            "(949, 'French 1', None)\n",
            "(950, 'English 2', None)\n",
            "(951, 'French 2', None)\n",
            "(952, 'English 2', None)\n",
            "(953, 'French 2', None)\n",
            "Ready!\n"
          ]
        }
      ]
    },
    {
      "cell_type": "markdown",
      "source": [
        "**Note: in SQLite ALTER COLUMN is not supported**\n",
        "\n",
        "The following command will not work in SQLite\n",
        "\n",
        "```\n",
        "ALTER TABLE course ALTER COLUMN ects SET NOT NULL;\n",
        "```\n",
        "And so we cannot add constraints, we need to create a new column and drop the old column\n"
      ],
      "metadata": {
        "id": "bvHBLeyE0rSn"
      }
    },
    {
      "cell_type": "code",
      "source": [
        "cursor.execute('''\n",
        "ALTER TABLE course ADD COLUMN ects_no_null integer NOT NULL DEFAULT 2;\n",
        "''')\n",
        "\n",
        "cursor.execute('''\n",
        "ALTER TABLE course DROP COLUMN ects;\n",
        "''')\n",
        "\n",
        "\n",
        "cursor.execute(\"SELECT * FROM course\")\n",
        "rows = cursor.fetchall()\n",
        "\n",
        "for row in rows:\n",
        "  print(row)\n",
        "conn.commit()\n",
        "print(\"Ready!\")"
      ],
      "metadata": {
        "colab": {
          "base_uri": "https://localhost:8080/"
        },
        "id": "qezaMNvqxVrZ",
        "outputId": "39d2f6db-4d77-4789-e387-b173783d8826"
      },
      "execution_count": 19,
      "outputs": [
        {
          "output_type": "stream",
          "name": "stdout",
          "text": [
            "(10, 'Adv. Basics', 2)\n",
            "(11, 'Adv. History', 2)\n",
            "(12, 'Adv. Ethics', 2)\n",
            "(945, 'Basics', 2)\n",
            "(946, 'History', 2)\n",
            "(947, 'Ethics', 2)\n",
            "(948, 'English 1', 2)\n",
            "(949, 'French 1', 2)\n",
            "(950, 'English 2', 2)\n",
            "(951, 'French 2', 2)\n",
            "(952, 'English 2', 2)\n",
            "(953, 'French 2', 2)\n",
            "Ready!\n"
          ]
        }
      ]
    },
    {
      "cell_type": "markdown",
      "source": [
        "## Exercise 01\n",
        "\n",
        "Create a table called `takes`  with two attributes studid and courseid to connect students to courses."
      ],
      "metadata": {
        "id": "t66x3sgU4CGJ"
      }
    },
    {
      "cell_type": "code",
      "source": [
        "# Create the takes table\n",
        "cursor.execute('''\n",
        "CREATE TABLE takes (\n",
        "    studid INTEGER,\n",
        "    courseid INTEGER,\n",
        "    FOREIGN KEY (studid) REFERENCES student(studid),\n",
        "    FOREIGN KEY (courseid) REFERENCES course(id)\n",
        ");\n",
        "''')\n",
        "\n",
        "conn.commit()\n",
        "print(\"Ready!\")"
      ],
      "metadata": {
        "colab": {
          "base_uri": "https://localhost:8080/"
        },
        "id": "2V3r88nu4q8g",
        "outputId": "fd0b1cb3-1333-45b1-a521-47dba4a2aa13"
      },
      "execution_count": 20,
      "outputs": [
        {
          "output_type": "stream",
          "name": "stdout",
          "text": [
            "Ready!\n"
          ]
        }
      ]
    },
    {
      "cell_type": "markdown",
      "source": [
        "Then, insert into  takes the tuples to register all students to the course with id 946"
      ],
      "metadata": {
        "id": "qnxfzyKU-clJ"
      }
    },
    {
      "cell_type": "code",
      "source": [
        "# Insert tuples to register all students to the course with id 946\n",
        "cursor.execute('''\n",
        "INSERT INTO takes (studid, courseid)\n",
        "SELECT studid, 946 FROM student;\n",
        "''')\n",
        "\n",
        "conn.commit()\n",
        "print(\"Ready!\")"
      ],
      "metadata": {
        "colab": {
          "base_uri": "https://localhost:8080/"
        },
        "id": "VmzGXOt8-TpG",
        "outputId": "47405d63-ffad-4560-f356-551411d8f3be"
      },
      "execution_count": 21,
      "outputs": [
        {
          "output_type": "stream",
          "name": "stdout",
          "text": [
            "Ready!\n"
          ]
        }
      ]
    },
    {
      "cell_type": "markdown",
      "source": [
        "Then, insert into  takes the tuples to register all students with semester above 5 to the course with id *948*"
      ],
      "metadata": {
        "id": "joUhn9fHDJQj"
      }
    },
    {
      "cell_type": "code",
      "source": [
        "cursor.execute('''\n",
        "\n",
        "--- ????\n",
        "\n",
        "\n",
        "''')"
      ],
      "metadata": {
        "colab": {
          "base_uri": "https://localhost:8080/"
        },
        "id": "0wLYqNKrDKBV",
        "outputId": "7bd1c886-c82d-48c1-e959-89a587ea474d"
      },
      "execution_count": 22,
      "outputs": [
        {
          "output_type": "execute_result",
          "data": {
            "text/plain": [
              "<sqlite3.Cursor at 0x7bcbe8845a40>"
            ]
          },
          "metadata": {},
          "execution_count": 22
        }
      ]
    },
    {
      "cell_type": "markdown",
      "source": [
        "Write the SQL query to return all the course ids for student with name 'Jonas'"
      ],
      "metadata": {
        "id": "Nq9XrQtv-mP1"
      }
    },
    {
      "cell_type": "code",
      "source": [
        "cursor.execute('''\n",
        "  SELECT t.courseid\n",
        "  FROM takes AS t\n",
        "  JOIN student AS s ON t.studid = s.studid\n",
        "  WHERE s.name = 'Jonas';\n",
        "''')\n",
        "\n",
        "for row in cursor.fetchall():\n",
        "  print(row[0])\n"
      ],
      "metadata": {
        "colab": {
          "base_uri": "https://localhost:8080/"
        },
        "id": "7ZcB-APr-y_e",
        "outputId": "d0dedb5f-4c54-4475-f555-a473c7b28cfa"
      },
      "execution_count": 23,
      "outputs": [
        {
          "output_type": "stream",
          "name": "stdout",
          "text": [
            "946\n"
          ]
        }
      ]
    },
    {
      "cell_type": "markdown",
      "source": [
        "*Write the SQL query to return all the course ids for student with name starting ith 'F'*"
      ],
      "metadata": {
        "id": "ejYc_d56BWvq"
      }
    },
    {
      "cell_type": "code",
      "source": [
        "cursor.execute('''\n",
        "\n",
        "--- ????\n",
        "\n",
        "\n",
        "''')\n",
        "\n",
        "rows = cursor.fetchall()\n",
        "\n",
        "for row in rows:\n",
        "  print(row[0])"
      ],
      "metadata": {
        "id": "CjWy5gfaBiBF"
      },
      "execution_count": null,
      "outputs": []
    },
    {
      "cell_type": "markdown",
      "source": [
        "## Exercise 02"
      ],
      "metadata": {
        "id": "sHSMmv8rBK6W"
      }
    },
    {
      "cell_type": "markdown",
      "source": [
        "\n",
        "Create a table called `teaches` then insert the data to say that Socrates teaches Basic and French, and Russel teaches Ethics\n"
      ],
      "metadata": {
        "id": "w1b7R3TZAhJ3"
      }
    },
    {
      "cell_type": "code",
      "source": [
        "# Create the teaches table\n",
        "cursor.execute('''\n",
        "CREATE TABLE teaches (\n",
        "    profid INTEGER,\n",
        "    courseid INTEGER,\n",
        "    FOREIGN KEY (profid) REFERENCES professor(id),\n",
        "    FOREIGN KEY (courseid) REFERENCES course(id)\n",
        ");\n",
        "''')\n",
        "\n",
        "# Insert data for Socrates teaching Basic and French\n",
        "cursor.execute('''\n",
        "INSERT INTO teaches (profid, courseid)\n",
        "SELECT p.id, c.id\n",
        "FROM professor p, course c\n",
        "WHERE p.name = 'Socrates' AND c.title IN ('Basics', 'French 1');\n",
        "''')\n",
        "\n",
        "# Insert data for Russel teaching Ethics\n",
        "cursor.execute('''\n",
        "INSERT INTO teaches (profid, courseid)\n",
        "SELECT p.id, c.id\n",
        "FROM professor p, course c\n",
        "WHERE p.name = 'Russel' AND c.title = 'Ethics';\n",
        "''')\n",
        "\n",
        "conn.commit()\n",
        "print(\"Ready!\")"
      ],
      "metadata": {
        "colab": {
          "base_uri": "https://localhost:8080/"
        },
        "id": "hKMkx1Q3-HHE",
        "outputId": "f9b23d17-7a62-4eae-b41e-5c22503f4160"
      },
      "execution_count": 24,
      "outputs": [
        {
          "output_type": "stream",
          "name": "stdout",
          "text": [
            "Ready!\n"
          ]
        }
      ]
    },
    {
      "cell_type": "markdown",
      "source": [
        "Provide the title of the courses taught by professor with id 2126"
      ],
      "metadata": {
        "id": "2rKDtzmy5_fa"
      }
    },
    {
      "cell_type": "code",
      "source": [
        "cursor.execute('''\n",
        "\n",
        "--- ????\n",
        "\n",
        "\n",
        "''')\n",
        "\n",
        "rows = cursor.fetchall()\n",
        "\n",
        "for row in rows:\n",
        "  print(row[0])"
      ],
      "metadata": {
        "id": "QORgwOKU5mYa"
      },
      "execution_count": null,
      "outputs": []
    },
    {
      "cell_type": "markdown",
      "source": [
        "Provide the title of the courses taught by professor with name starting with 'F'"
      ],
      "metadata": {
        "id": "mz_4CcvuBAdI"
      }
    },
    {
      "cell_type": "code",
      "source": [],
      "metadata": {
        "id": "uTrhYFrn6Dq0"
      },
      "execution_count": null,
      "outputs": []
    }
  ]
}